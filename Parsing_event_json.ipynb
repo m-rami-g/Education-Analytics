{
 "cells": [
  {
   "cell_type": "code",
   "execution_count": 3,
   "id": "13949b43",
   "metadata": {},
   "outputs": [],
   "source": [
    "import pandas as pd\n",
    "# from pandarallel import pandarallel\n",
    "# pandarallel.initialize(progress_bar=True)\n",
    "import numpy\n",
    "import json\n",
    "import glob\n",
    "from tqdm.auto import tqdm\n",
    "tqdm.pandas()\n",
    "# from distributed import Client\n",
    "# client = Client(memory_limit='8GB')\n",
    "import os\n",
    "import re\n",
    "# import dask.dataframe as dd\n",
    "from pandas.io.json import json_normalize\n",
    "import matplotlib.pyplot as plt"
   ]
  },
  {
   "cell_type": "code",
   "execution_count": null,
   "id": "f2475446-02d3-4666-99be-d38444703059",
   "metadata": {},
   "outputs": [],
   "source": []
  },
  {
   "cell_type": "code",
   "execution_count": 6,
   "id": "ca78eeb7",
   "metadata": {},
   "outputs": [
    {
     "name": "stdout",
     "output_type": "stream",
     "text": [
      "/Users/t2x_m9/Documents/courses/arch101P1x+2T2019_video_interaction.csv\n",
      "finished replacing\n"
     ]
    },
    {
     "data": {
      "application/vnd.jupyter.widget-view+json": {
       "model_id": "3a6e9c6472484ce7a5e047f0d11ae93a",
       "version_major": 2,
       "version_minor": 0
      },
      "text/plain": [
       "  0%|          | 0/239556 [00:00<?, ?it/s]"
      ]
     },
     "metadata": {},
     "output_type": "display_data"
    },
    {
     "name": "stdout",
     "output_type": "stream",
     "text": [
      "finished: arch101P1x+2T2019.csv\n"
     ]
    }
   ],
   "source": [
    "courses=[f for f in os.listdir(os.getcwd()) if not f.startswith('.')]\n",
    "for file in courses:\n",
    "    if file.endswith('.csv'):\n",
    "        print(os.getcwd()+'/'+file)\n",
    "        name = file.replace('_video_interaction.csv', '')+'.csv'\n",
    "        file = pd.read_csv(file)\n",
    "        parsed =pd.DataFrame()\n",
    "        file = file.replace(to_replace ='\\'', value = '\"', regex = True)\n",
    "        print('finished replacing')\n",
    "        for event in tqdm(file['event']):\n",
    "            temp_df = pd.concat([pd.DataFrame(pd.json_normalize(json.loads(event)))], ignore_index=False, sort = False)\n",
    "            parsed = pd.concat([parsed, temp_df])\n",
    "        df = pd.concat([file,parsed.reset_index(drop=True)], axis=1)    \n",
    "        print('finished: '+ name)      \n",
    "        df.to_csv(name)         "
   ]
  },
  {
   "cell_type": "code",
   "execution_count": null,
   "id": "78ffecba",
   "metadata": {},
   "outputs": [],
   "source": []
  },
  {
   "cell_type": "code",
   "execution_count": null,
   "id": "66d41e01",
   "metadata": {},
   "outputs": [],
   "source": []
  }
 ],
 "metadata": {
  "kernelspec": {
   "display_name": "Python 3 (ipykernel)",
   "language": "python",
   "name": "python3"
  },
  "language_info": {
   "codemirror_mode": {
    "name": "ipython",
    "version": 3
   },
   "file_extension": ".py",
   "mimetype": "text/x-python",
   "name": "python",
   "nbconvert_exporter": "python",
   "pygments_lexer": "ipython3",
   "version": "3.9.9"
  }
 },
 "nbformat": 4,
 "nbformat_minor": 5
}
